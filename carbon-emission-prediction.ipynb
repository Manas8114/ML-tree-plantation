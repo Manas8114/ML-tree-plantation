{
 "cells": [
  {
   "cell_type": "markdown",
   "id": "72691fbb",
   "metadata": {
    "papermill": {
     "duration": 0.013435,
     "end_time": "2023-08-08T11:38:29.116099",
     "exception": false,
     "start_time": "2023-08-08T11:38:29.102664",
     "status": "completed"
    },
    "tags": []
   },
   "source": [
    "# Importing libraries"
   ]
  },
  {
   "cell_type": "code",
   "execution_count": 106,
   "id": "91da5766",
   "metadata": {
    "execution": {
     "iopub.execute_input": "2023-08-08T11:38:29.145116Z",
     "iopub.status.busy": "2023-08-08T11:38:29.144387Z",
     "iopub.status.idle": "2023-08-08T11:38:30.863409Z",
     "shell.execute_reply": "2023-08-08T11:38:30.861986Z"
    },
    "papermill": {
     "duration": 1.737142,
     "end_time": "2023-08-08T11:38:30.866894",
     "exception": false,
     "start_time": "2023-08-08T11:38:29.129752",
     "status": "completed"
    },
    "tags": []
   },
   "outputs": [],
   "source": [
    "import numpy as np\n",
    "import pandas as pd\n",
    "import os,sys\n",
    "import matplotlib.pyplot as plt\n",
    "import seaborn as sns\n",
    "%matplotlib inline\n",
    "sns.set\n",
    "import warnings\n",
    "warnings.filterwarnings('ignore')\n",
    "from datetime import datetime"
   ]
  },
  {
   "cell_type": "markdown",
   "id": "6e2c105f",
   "metadata": {
    "papermill": {
     "duration": 0.014042,
     "end_time": "2023-08-08T11:38:30.894062",
     "exception": false,
     "start_time": "2023-08-08T11:38:30.880020",
     "status": "completed"
    },
    "tags": []
   },
   "source": [
    "## Reading dataset"
   ]
  },
  {
   "cell_type": "code",
   "execution_count": 107,
   "id": "a8940b51",
   "metadata": {
    "execution": {
     "iopub.execute_input": "2023-08-08T11:38:30.921763Z",
     "iopub.status.busy": "2023-08-08T11:38:30.921350Z",
     "iopub.status.idle": "2023-08-08T11:38:30.963568Z",
     "shell.execute_reply": "2023-08-08T11:38:30.962273Z"
    },
    "papermill": {
     "duration": 0.059271,
     "end_time": "2023-08-08T11:38:30.966286",
     "exception": false,
     "start_time": "2023-08-08T11:38:30.907015",
     "status": "completed"
    },
    "tags": []
   },
   "outputs": [
    {
     "data": {
      "text/html": [
       "<div>\n",
       "<style scoped>\n",
       "    .dataframe tbody tr th:only-of-type {\n",
       "        vertical-align: middle;\n",
       "    }\n",
       "\n",
       "    .dataframe tbody tr th {\n",
       "        vertical-align: top;\n",
       "    }\n",
       "\n",
       "    .dataframe thead th {\n",
       "        text-align: right;\n",
       "    }\n",
       "</style>\n",
       "<table border=\"1\" class=\"dataframe\">\n",
       "  <thead>\n",
       "    <tr style=\"text-align: right;\">\n",
       "      <th></th>\n",
       "      <th>Unnamed: 0</th>\n",
       "      <th>Coal Data</th>\n",
       "      <th>Unnamed: 2</th>\n",
       "      <th>Natural Gas</th>\n",
       "      <th>Unnamed: 4</th>\n",
       "      <th>Electricity</th>\n",
       "      <th>Unnamed: 6</th>\n",
       "      <th>Co2 Emissions</th>\n",
       "    </tr>\n",
       "  </thead>\n",
       "  <tbody>\n",
       "    <tr>\n",
       "      <th>0</th>\n",
       "      <td>year</td>\n",
       "      <td>world_cons</td>\n",
       "      <td>world_prod</td>\n",
       "      <td>world_prod</td>\n",
       "      <td>world_cons</td>\n",
       "      <td>world_prod</td>\n",
       "      <td>world_cons</td>\n",
       "      <td>world</td>\n",
       "    </tr>\n",
       "    <tr>\n",
       "      <th>1</th>\n",
       "      <td>1990</td>\n",
       "      <td>4693</td>\n",
       "      <td>4698</td>\n",
       "      <td>2057</td>\n",
       "      <td>2047</td>\n",
       "      <td>11875</td>\n",
       "      <td>10120</td>\n",
       "      <td>20376</td>\n",
       "    </tr>\n",
       "    <tr>\n",
       "      <th>2</th>\n",
       "      <td>1991</td>\n",
       "      <td>4614</td>\n",
       "      <td>4526</td>\n",
       "      <td>2099</td>\n",
       "      <td>2107</td>\n",
       "      <td>12152</td>\n",
       "      <td>10436</td>\n",
       "      <td>20532</td>\n",
       "    </tr>\n",
       "    <tr>\n",
       "      <th>3</th>\n",
       "      <td>1992</td>\n",
       "      <td>4558</td>\n",
       "      <td>4478</td>\n",
       "      <td>2099</td>\n",
       "      <td>2101</td>\n",
       "      <td>12262</td>\n",
       "      <td>10525</td>\n",
       "      <td>20450</td>\n",
       "    </tr>\n",
       "    <tr>\n",
       "      <th>4</th>\n",
       "      <td>1993</td>\n",
       "      <td>4538</td>\n",
       "      <td>4361</td>\n",
       "      <td>2147</td>\n",
       "      <td>2136</td>\n",
       "      <td>12550</td>\n",
       "      <td>10724</td>\n",
       "      <td>20552</td>\n",
       "    </tr>\n",
       "  </tbody>\n",
       "</table>\n",
       "</div>"
      ],
      "text/plain": [
       "  Unnamed: 0   Coal Data  Unnamed: 2 Natural Gas  Unnamed: 4 Electricity  \\\n",
       "0       year  world_cons  world_prod  world_prod  world_cons  world_prod   \n",
       "1       1990        4693        4698        2057        2047       11875   \n",
       "2       1991        4614        4526        2099        2107       12152   \n",
       "3       1992        4558        4478        2099        2101       12262   \n",
       "4       1993        4538        4361        2147        2136       12550   \n",
       "\n",
       "   Unnamed: 6 Co2 Emissions  \n",
       "0  world_cons         world  \n",
       "1       10120         20376  \n",
       "2       10436         20532  \n",
       "3       10525         20450  \n",
       "4       10724         20552  "
      ]
     },
     "execution_count": 107,
     "metadata": {},
     "output_type": "execute_result"
    }
   ],
   "source": [
    "df = pd.read_csv(r\"C:\\\\Users\\\\msgok\\Downloads\\world_energy_data.csv\")\n",
    "df.head()"
   ]
  },
  {
   "cell_type": "code",
   "execution_count": 108,
   "id": "06a86914",
   "metadata": {
    "execution": {
     "iopub.execute_input": "2023-08-08T11:38:30.995354Z",
     "iopub.status.busy": "2023-08-08T11:38:30.994944Z",
     "iopub.status.idle": "2023-08-08T11:38:31.006172Z",
     "shell.execute_reply": "2023-08-08T11:38:31.005119Z"
    },
    "papermill": {
     "duration": 0.029317,
     "end_time": "2023-08-08T11:38:31.008959",
     "exception": false,
     "start_time": "2023-08-08T11:38:30.979642",
     "status": "completed"
    },
    "tags": []
   },
   "outputs": [],
   "source": [
    "# Taking out the emission data\n",
    "emission_df = df[['Unnamed: 0','Co2 Emissions']]"
   ]
  },
  {
   "cell_type": "code",
   "execution_count": 109,
   "id": "86ed60d8",
   "metadata": {
    "execution": {
     "iopub.execute_input": "2023-08-08T11:38:31.038784Z",
     "iopub.status.busy": "2023-08-08T11:38:31.037449Z",
     "iopub.status.idle": "2023-08-08T11:38:31.045544Z",
     "shell.execute_reply": "2023-08-08T11:38:31.044160Z"
    },
    "papermill": {
     "duration": 0.026087,
     "end_time": "2023-08-08T11:38:31.048591",
     "exception": false,
     "start_time": "2023-08-08T11:38:31.022504",
     "status": "completed"
    },
    "tags": []
   },
   "outputs": [],
   "source": [
    "# Dropping reduntant rows\n",
    "emission_df.drop([0,0],axis=0,inplace=True)"
   ]
  },
  {
   "cell_type": "code",
   "execution_count": 110,
   "id": "2a92670f",
   "metadata": {
    "execution": {
     "iopub.execute_input": "2023-08-08T11:38:31.078724Z",
     "iopub.status.busy": "2023-08-08T11:38:31.078257Z",
     "iopub.status.idle": "2023-08-08T11:38:31.084187Z",
     "shell.execute_reply": "2023-08-08T11:38:31.082805Z"
    },
    "papermill": {
     "duration": 0.023158,
     "end_time": "2023-08-08T11:38:31.086544",
     "exception": false,
     "start_time": "2023-08-08T11:38:31.063386",
     "status": "completed"
    },
    "tags": []
   },
   "outputs": [],
   "source": [
    "# changing column names\n",
    "emission_df.columns = ['year','emission']"
   ]
  },
  {
   "cell_type": "code",
   "execution_count": 111,
   "id": "3d48a995",
   "metadata": {
    "execution": {
     "iopub.execute_input": "2023-08-08T11:38:31.115811Z",
     "iopub.status.busy": "2023-08-08T11:38:31.115153Z",
     "iopub.status.idle": "2023-08-08T11:38:31.126330Z",
     "shell.execute_reply": "2023-08-08T11:38:31.125060Z"
    },
    "papermill": {
     "duration": 0.028844,
     "end_time": "2023-08-08T11:38:31.128948",
     "exception": false,
     "start_time": "2023-08-08T11:38:31.100104",
     "status": "completed"
    },
    "tags": []
   },
   "outputs": [
    {
     "data": {
      "text/html": [
       "<div>\n",
       "<style scoped>\n",
       "    .dataframe tbody tr th:only-of-type {\n",
       "        vertical-align: middle;\n",
       "    }\n",
       "\n",
       "    .dataframe tbody tr th {\n",
       "        vertical-align: top;\n",
       "    }\n",
       "\n",
       "    .dataframe thead th {\n",
       "        text-align: right;\n",
       "    }\n",
       "</style>\n",
       "<table border=\"1\" class=\"dataframe\">\n",
       "  <thead>\n",
       "    <tr style=\"text-align: right;\">\n",
       "      <th></th>\n",
       "      <th>year</th>\n",
       "      <th>emission</th>\n",
       "    </tr>\n",
       "  </thead>\n",
       "  <tbody>\n",
       "    <tr>\n",
       "      <th>1</th>\n",
       "      <td>1990</td>\n",
       "      <td>20376</td>\n",
       "    </tr>\n",
       "    <tr>\n",
       "      <th>2</th>\n",
       "      <td>1991</td>\n",
       "      <td>20532</td>\n",
       "    </tr>\n",
       "    <tr>\n",
       "      <th>3</th>\n",
       "      <td>1992</td>\n",
       "      <td>20450</td>\n",
       "    </tr>\n",
       "    <tr>\n",
       "      <th>4</th>\n",
       "      <td>1993</td>\n",
       "      <td>20552</td>\n",
       "    </tr>\n",
       "    <tr>\n",
       "      <th>5</th>\n",
       "      <td>1994</td>\n",
       "      <td>20632</td>\n",
       "    </tr>\n",
       "  </tbody>\n",
       "</table>\n",
       "</div>"
      ],
      "text/plain": [
       "   year emission\n",
       "1  1990    20376\n",
       "2  1991    20532\n",
       "3  1992    20450\n",
       "4  1993    20552\n",
       "5  1994    20632"
      ]
     },
     "execution_count": 111,
     "metadata": {},
     "output_type": "execute_result"
    }
   ],
   "source": [
    "emission_df.head()"
   ]
  },
  {
   "cell_type": "code",
   "execution_count": 112,
   "id": "3365c17f",
   "metadata": {
    "execution": {
     "iopub.execute_input": "2023-08-08T11:38:31.159201Z",
     "iopub.status.busy": "2023-08-08T11:38:31.158732Z",
     "iopub.status.idle": "2023-08-08T11:38:31.166091Z",
     "shell.execute_reply": "2023-08-08T11:38:31.164502Z"
    },
    "papermill": {
     "duration": 0.024759,
     "end_time": "2023-08-08T11:38:31.168427",
     "exception": false,
     "start_time": "2023-08-08T11:38:31.143668",
     "status": "completed"
    },
    "tags": []
   },
   "outputs": [],
   "source": [
    "# chnging type of year column into datetime\n",
    "emission_df['year'] = pd.to_datetime(emission_df['year'])"
   ]
  },
  {
   "cell_type": "code",
   "execution_count": 113,
   "id": "b8e431f9",
   "metadata": {
    "execution": {
     "iopub.execute_input": "2023-08-08T11:38:31.197694Z",
     "iopub.status.busy": "2023-08-08T11:38:31.197001Z",
     "iopub.status.idle": "2023-08-08T11:38:31.222052Z",
     "shell.execute_reply": "2023-08-08T11:38:31.220664Z"
    },
    "papermill": {
     "duration": 0.042675,
     "end_time": "2023-08-08T11:38:31.224536",
     "exception": false,
     "start_time": "2023-08-08T11:38:31.181861",
     "status": "completed"
    },
    "tags": []
   },
   "outputs": [
    {
     "name": "stdout",
     "output_type": "stream",
     "text": [
      "<class 'pandas.core.frame.DataFrame'>\n",
      "Index: 33 entries, 1 to 33\n",
      "Data columns (total 2 columns):\n",
      " #   Column    Non-Null Count  Dtype         \n",
      "---  ------    --------------  -----         \n",
      " 0   year      33 non-null     datetime64[ns]\n",
      " 1   emission  33 non-null     object        \n",
      "dtypes: datetime64[ns](1), object(1)\n",
      "memory usage: 792.0+ bytes\n"
     ]
    }
   ],
   "source": [
    "emission_df.info()"
   ]
  },
  {
   "cell_type": "code",
   "execution_count": 114,
   "id": "3acf6f37",
   "metadata": {
    "execution": {
     "iopub.execute_input": "2023-08-08T11:38:31.254991Z",
     "iopub.status.busy": "2023-08-08T11:38:31.254217Z",
     "iopub.status.idle": "2023-08-08T11:38:31.259932Z",
     "shell.execute_reply": "2023-08-08T11:38:31.259025Z"
    },
    "papermill": {
     "duration": 0.023846,
     "end_time": "2023-08-08T11:38:31.262738",
     "exception": false,
     "start_time": "2023-08-08T11:38:31.238892",
     "status": "completed"
    },
    "tags": []
   },
   "outputs": [],
   "source": [
    "# changing data type into integer\n",
    "emission_df['emission'] = emission_df.emission.astype(int)"
   ]
  },
  {
   "cell_type": "code",
   "execution_count": 115,
   "id": "bf0e6548",
   "metadata": {
    "execution": {
     "iopub.execute_input": "2023-08-08T11:38:31.293314Z",
     "iopub.status.busy": "2023-08-08T11:38:31.292911Z",
     "iopub.status.idle": "2023-08-08T11:38:31.305706Z",
     "shell.execute_reply": "2023-08-08T11:38:31.304139Z"
    },
    "papermill": {
     "duration": 0.031917,
     "end_time": "2023-08-08T11:38:31.308214",
     "exception": false,
     "start_time": "2023-08-08T11:38:31.276297",
     "status": "completed"
    },
    "tags": []
   },
   "outputs": [
    {
     "name": "stdout",
     "output_type": "stream",
     "text": [
      "<class 'pandas.core.frame.DataFrame'>\n",
      "Index: 33 entries, 1 to 33\n",
      "Data columns (total 2 columns):\n",
      " #   Column    Non-Null Count  Dtype         \n",
      "---  ------    --------------  -----         \n",
      " 0   year      33 non-null     datetime64[ns]\n",
      " 1   emission  33 non-null     int32         \n",
      "dtypes: datetime64[ns](1), int32(1)\n",
      "memory usage: 660.0 bytes\n"
     ]
    }
   ],
   "source": [
    "emission_df.info()"
   ]
  },
  {
   "cell_type": "code",
   "execution_count": 116,
   "id": "c29a6461",
   "metadata": {
    "execution": {
     "iopub.execute_input": "2023-08-08T11:38:31.339179Z",
     "iopub.status.busy": "2023-08-08T11:38:31.338013Z",
     "iopub.status.idle": "2023-08-08T11:38:31.354584Z",
     "shell.execute_reply": "2023-08-08T11:38:31.353397Z"
    },
    "papermill": {
     "duration": 0.035273,
     "end_time": "2023-08-08T11:38:31.357192",
     "exception": false,
     "start_time": "2023-08-08T11:38:31.321919",
     "status": "completed"
    },
    "tags": []
   },
   "outputs": [
    {
     "data": {
      "text/html": [
       "<div>\n",
       "<style scoped>\n",
       "    .dataframe tbody tr th:only-of-type {\n",
       "        vertical-align: middle;\n",
       "    }\n",
       "\n",
       "    .dataframe tbody tr th {\n",
       "        vertical-align: top;\n",
       "    }\n",
       "\n",
       "    .dataframe thead th {\n",
       "        text-align: right;\n",
       "    }\n",
       "</style>\n",
       "<table border=\"1\" class=\"dataframe\">\n",
       "  <thead>\n",
       "    <tr style=\"text-align: right;\">\n",
       "      <th></th>\n",
       "      <th>year</th>\n",
       "      <th>emission</th>\n",
       "    </tr>\n",
       "  </thead>\n",
       "  <tbody>\n",
       "    <tr>\n",
       "      <th>count</th>\n",
       "      <td>33</td>\n",
       "      <td>33.000000</td>\n",
       "    </tr>\n",
       "    <tr>\n",
       "      <th>mean</th>\n",
       "      <td>2005-12-31 21:05:27.272727296</td>\n",
       "      <td>26818.151515</td>\n",
       "    </tr>\n",
       "    <tr>\n",
       "      <th>min</th>\n",
       "      <td>1990-01-01 00:00:00</td>\n",
       "      <td>20376.000000</td>\n",
       "    </tr>\n",
       "    <tr>\n",
       "      <th>25%</th>\n",
       "      <td>1998-01-01 00:00:00</td>\n",
       "      <td>22067.000000</td>\n",
       "    </tr>\n",
       "    <tr>\n",
       "      <th>50%</th>\n",
       "      <td>2006-01-01 00:00:00</td>\n",
       "      <td>27483.000000</td>\n",
       "    </tr>\n",
       "    <tr>\n",
       "      <th>75%</th>\n",
       "      <td>2014-01-01 00:00:00</td>\n",
       "      <td>31682.000000</td>\n",
       "    </tr>\n",
       "    <tr>\n",
       "      <th>max</th>\n",
       "      <td>2022-01-01 00:00:00</td>\n",
       "      <td>33811.000000</td>\n",
       "    </tr>\n",
       "    <tr>\n",
       "      <th>std</th>\n",
       "      <td>NaN</td>\n",
       "      <td>4767.207949</td>\n",
       "    </tr>\n",
       "  </tbody>\n",
       "</table>\n",
       "</div>"
      ],
      "text/plain": [
       "                                year      emission\n",
       "count                             33     33.000000\n",
       "mean   2005-12-31 21:05:27.272727296  26818.151515\n",
       "min              1990-01-01 00:00:00  20376.000000\n",
       "25%              1998-01-01 00:00:00  22067.000000\n",
       "50%              2006-01-01 00:00:00  27483.000000\n",
       "75%              2014-01-01 00:00:00  31682.000000\n",
       "max              2022-01-01 00:00:00  33811.000000\n",
       "std                              NaN   4767.207949"
      ]
     },
     "execution_count": 116,
     "metadata": {},
     "output_type": "execute_result"
    }
   ],
   "source": [
    "emission_df.describe()"
   ]
  },
  {
   "cell_type": "code",
   "execution_count": 117,
   "id": "39366671",
   "metadata": {
    "execution": {
     "iopub.execute_input": "2023-08-08T11:38:31.387296Z",
     "iopub.status.busy": "2023-08-08T11:38:31.386439Z",
     "iopub.status.idle": "2023-08-08T11:38:31.983691Z",
     "shell.execute_reply": "2023-08-08T11:38:31.982359Z"
    },
    "papermill": {
     "duration": 0.615289,
     "end_time": "2023-08-08T11:38:31.986353",
     "exception": false,
     "start_time": "2023-08-08T11:38:31.371064",
     "status": "completed"
    },
    "tags": []
   },
   "outputs": [
    {
     "data": {
      "text/plain": [
       "[<matplotlib.lines.Line2D at 0x26763c735d0>]"
      ]
     },
     "execution_count": 117,
     "metadata": {},
     "output_type": "execute_result"
    },
    {
     "data": {
      "image/png": "[encoded data removed]",
      "text/plain": [
       "<Figure size 2000x1000 with 1 Axes>"
      ]
     },
     "metadata": {},
     "output_type": "display_data"
    }
   ],
   "source": [
    "# plotting given data \n",
    "plt.figure(figsize=(20,10))\n",
    "plt.plot('year','emission',data=emission_df)"
   ]
  },
  {
   "cell_type": "code",
   "execution_count": 118,
   "id": "311cfa3b",
   "metadata": {
    "execution": {
     "iopub.execute_input": "2023-08-08T11:38:32.020244Z",
     "iopub.status.busy": "2023-08-08T11:38:32.019815Z",
     "iopub.status.idle": "2023-08-08T11:38:33.929662Z",
     "shell.execute_reply": "2023-08-08T11:38:33.928473Z"
    },
    "papermill": {
     "duration": 1.931118,
     "end_time": "2023-08-08T11:38:33.932477",
     "exception": false,
     "start_time": "2023-08-08T11:38:32.001359",
     "status": "completed"
    },
    "tags": []
   },
   "outputs": [],
   "source": [
    "import statsmodels.api as sm"
   ]
  },
  {
   "cell_type": "code",
   "execution_count": 119,
   "id": "2e3c3634",
   "metadata": {
    "execution": {
     "iopub.execute_input": "2023-08-08T11:38:33.963987Z",
     "iopub.status.busy": "2023-08-08T11:38:33.963517Z",
     "iopub.status.idle": "2023-08-08T11:38:33.970734Z",
     "shell.execute_reply": "2023-08-08T11:38:33.969772Z"
    },
    "papermill": {
     "duration": 0.025893,
     "end_time": "2023-08-08T11:38:33.973164",
     "exception": false,
     "start_time": "2023-08-08T11:38:33.947271",
     "status": "completed"
    },
    "tags": []
   },
   "outputs": [
    {
     "data": {
      "text/plain": [
       "-0.013415542018681663"
      ]
     },
     "execution_count": 119,
     "metadata": {},
     "output_type": "execute_result"
    }
   ],
   "source": [
    "# Performing durbin watson test to check the autocorrelation\n",
    "sm.stats.durbin_watson(emission_df['emission'])"
   ]
  },
  {
   "cell_type": "markdown",
   "id": "b960e236",
   "metadata": {
    "papermill": {
     "duration": 0.015472,
     "end_time": "2023-08-08T11:38:34.004579",
     "exception": false,
     "start_time": "2023-08-08T11:38:33.989107",
     "status": "completed"
    },
    "tags": []
   },
   "source": [
    "## Import Facebook Prophet Model"
   ]
  },
  {
   "cell_type": "code",
   "execution_count": 120,
   "id": "234087d7",
   "metadata": {
    "execution": {
     "iopub.execute_input": "2023-08-08T11:38:34.119927Z",
     "iopub.status.busy": "2023-08-08T11:38:34.119548Z",
     "iopub.status.idle": "2023-08-08T11:38:34.595175Z",
     "shell.execute_reply": "2023-08-08T11:38:34.593204Z"
    },
    "papermill": {
     "duration": 0.496024,
     "end_time": "2023-08-08T11:38:34.598424",
     "exception": false,
     "start_time": "2023-08-08T11:38:34.102400",
     "status": "completed"
    },
    "tags": []
   },
   "outputs": [],
   "source": [
    "import prophet"
   ]
  },
  {
   "cell_type": "code",
   "execution_count": 121,
   "id": "6f182536",
   "metadata": {
    "execution": {
     "iopub.execute_input": "2023-08-08T11:38:34.636872Z",
     "iopub.status.busy": "2023-08-08T11:38:34.636322Z",
     "iopub.status.idle": "2023-08-08T11:38:34.643230Z",
     "shell.execute_reply": "2023-08-08T11:38:34.642163Z"
    },
    "papermill": {
     "duration": 0.030148,
     "end_time": "2023-08-08T11:38:34.645823",
     "exception": false,
     "start_time": "2023-08-08T11:38:34.615675",
     "status": "completed"
    },
    "tags": []
   },
   "outputs": [],
   "source": [
    "#Renaming columns of dataset to use them into facebook prophet model\n",
    "df_prophet = emission_df.rename(columns={'year':'ds', 'emission':'y'})"
   ]
  },
  {
   "cell_type": "code",
   "execution_count": 122,
   "id": "5b3d0388",
   "metadata": {
    "execution": {
     "iopub.execute_input": "2023-08-08T11:38:34.678876Z",
     "iopub.status.busy": "2023-08-08T11:38:34.678449Z",
     "iopub.status.idle": "2023-08-08T11:38:34.690436Z",
     "shell.execute_reply": "2023-08-08T11:38:34.689070Z"
    },
    "papermill": {
     "duration": 0.032398,
     "end_time": "2023-08-08T11:38:34.693268",
     "exception": false,
     "start_time": "2023-08-08T11:38:34.660870",
     "status": "completed"
    },
    "tags": []
   },
   "outputs": [
    {
     "data": {
      "text/html": [
       "<div>\n",
       "<style scoped>\n",
       "    .dataframe tbody tr th:only-of-type {\n",
       "        vertical-align: middle;\n",
       "    }\n",
       "\n",
       "    .dataframe tbody tr th {\n",
       "        vertical-align: top;\n",
       "    }\n",
       "\n",
       "    .dataframe thead th {\n",
       "        text-align: right;\n",
       "    }\n",
       "</style>\n",
       "<table border=\"1\" class=\"dataframe\">\n",
       "  <thead>\n",
       "    <tr style=\"text-align: right;\">\n",
       "      <th></th>\n",
       "      <th>ds</th>\n",
       "      <th>y</th>\n",
       "    </tr>\n",
       "  </thead>\n",
       "  <tbody>\n",
       "    <tr>\n",
       "      <th>1</th>\n",
       "      <td>1990-01-01</td>\n",
       "      <td>20376</td>\n",
       "    </tr>\n",
       "    <tr>\n",
       "      <th>2</th>\n",
       "      <td>1991-01-01</td>\n",
       "      <td>20532</td>\n",
       "    </tr>\n",
       "    <tr>\n",
       "      <th>3</th>\n",
       "      <td>1992-01-01</td>\n",
       "      <td>20450</td>\n",
       "    </tr>\n",
       "    <tr>\n",
       "      <th>4</th>\n",
       "      <td>1993-01-01</td>\n",
       "      <td>20552</td>\n",
       "    </tr>\n",
       "    <tr>\n",
       "      <th>5</th>\n",
       "      <td>1994-01-01</td>\n",
       "      <td>20632</td>\n",
       "    </tr>\n",
       "  </tbody>\n",
       "</table>\n",
       "</div>"
      ],
      "text/plain": [
       "          ds      y\n",
       "1 1990-01-01  20376\n",
       "2 1991-01-01  20532\n",
       "3 1992-01-01  20450\n",
       "4 1993-01-01  20552\n",
       "5 1994-01-01  20632"
      ]
     },
     "execution_count": 122,
     "metadata": {},
     "output_type": "execute_result"
    }
   ],
   "source": [
    "df_prophet.head()"
   ]
  },
  {
   "cell_type": "code",
   "execution_count": 123,
   "id": "53dfe94d",
   "metadata": {
    "execution": {
     "iopub.execute_input": "2023-08-08T11:38:34.728965Z",
     "iopub.status.busy": "2023-08-08T11:38:34.728401Z",
     "iopub.status.idle": "2023-08-08T11:38:35.702453Z",
     "shell.execute_reply": "2023-08-08T11:38:35.701380Z"
    },
    "papermill": {
     "duration": 0.994896,
     "end_time": "2023-08-08T11:38:35.704971",
     "exception": false,
     "start_time": "2023-08-08T11:38:34.710075",
     "status": "completed"
    },
    "tags": []
   },
   "outputs": [
    {
     "name": "stderr",
     "output_type": "stream",
     "text": [
      "02:25:14 - cmdstanpy - INFO - Chain [1] start processing\n",
      "02:25:14 - cmdstanpy - INFO - Chain [1] done processing\n"
     ]
    }
   ],
   "source": [
    "from prophet import Prophet\n",
    "m = Prophet()\n",
    "model = m.fit(df_prophet)"
   ]
  },
  {
   "cell_type": "code",
   "execution_count": 124,
   "id": "4977f3de",
   "metadata": {
    "execution": {
     "iopub.execute_input": "2023-08-08T11:38:35.739727Z",
     "iopub.status.busy": "2023-08-08T11:38:35.738760Z",
     "iopub.status.idle": "2023-08-08T11:38:35.747003Z",
     "shell.execute_reply": "2023-08-08T11:38:35.745631Z"
    },
    "papermill": {
     "duration": 0.027633,
     "end_time": "2023-08-08T11:38:35.749512",
     "exception": false,
     "start_time": "2023-08-08T11:38:35.721879",
     "status": "completed"
    },
    "tags": []
   },
   "outputs": [
    {
     "data": {
      "text/plain": [
       "OrderedDict([('yearly',\n",
       "              {'period': 365.25,\n",
       "               'fourier_order': 10,\n",
       "               'prior_scale': 10.0,\n",
       "               'mode': 'additive',\n",
       "               'condition_name': None})])"
      ]
     },
     "execution_count": 124,
     "metadata": {},
     "output_type": "execute_result"
    }
   ],
   "source": [
    "model.seasonalities"
   ]
  },
  {
   "cell_type": "code",
   "execution_count": 125,
   "id": "47591b3e",
   "metadata": {
    "execution": {
     "iopub.execute_input": "2023-08-08T11:38:35.783318Z",
     "iopub.status.busy": "2023-08-08T11:38:35.782486Z",
     "iopub.status.idle": "2023-08-08T11:38:35.790111Z",
     "shell.execute_reply": "2023-08-08T11:38:35.788526Z"
    },
    "papermill": {
     "duration": 0.027582,
     "end_time": "2023-08-08T11:38:35.793003",
     "exception": false,
     "start_time": "2023-08-08T11:38:35.765421",
     "status": "completed"
    },
    "tags": []
   },
   "outputs": [
    {
     "data": {
      "text/plain": [
       "<prophet.forecaster.Prophet at 0x26763c8fed0>"
      ]
     },
     "execution_count": 125,
     "metadata": {},
     "output_type": "execute_result"
    }
   ],
   "source": [
    "model"
   ]
  },
  {
   "cell_type": "code",
   "execution_count": 126,
   "id": "8e7b6a71",
   "metadata": {
    "execution": {
     "iopub.execute_input": "2023-08-08T11:38:35.829197Z",
     "iopub.status.busy": "2023-08-08T11:38:35.828337Z",
     "iopub.status.idle": "2023-08-08T11:38:35.840577Z",
     "shell.execute_reply": "2023-08-08T11:38:35.839265Z"
    },
    "papermill": {
     "duration": 0.034374,
     "end_time": "2023-08-08T11:38:35.843848",
     "exception": false,
     "start_time": "2023-08-08T11:38:35.809474",
     "status": "completed"
    },
    "tags": []
   },
   "outputs": [],
   "source": [
    "future_pred = model.make_future_dataframe(periods=10, freq='Y')"
   ]
  },
  {
   "cell_type": "code",
   "execution_count": 127,
   "id": "d7080fc8",
   "metadata": {
    "execution": {
     "iopub.execute_input": "2023-08-08T11:38:35.879666Z",
     "iopub.status.busy": "2023-08-08T11:38:35.879231Z",
     "iopub.status.idle": "2023-08-08T11:38:35.889598Z",
     "shell.execute_reply": "2023-08-08T11:38:35.888614Z"
    },
    "papermill": {
     "duration": 0.031122,
     "end_time": "2023-08-08T11:38:35.891926",
     "exception": false,
     "start_time": "2023-08-08T11:38:35.860804",
     "status": "completed"
    },
    "tags": []
   },
   "outputs": [
    {
     "data": {
      "text/html": [
       "<div>\n",
       "<style scoped>\n",
       "    .dataframe tbody tr th:only-of-type {\n",
       "        vertical-align: middle;\n",
       "    }\n",
       "\n",
       "    .dataframe tbody tr th {\n",
       "        vertical-align: top;\n",
       "    }\n",
       "\n",
       "    .dataframe thead th {\n",
       "        text-align: right;\n",
       "    }\n",
       "</style>\n",
       "<table border=\"1\" class=\"dataframe\">\n",
       "  <thead>\n",
       "    <tr style=\"text-align: right;\">\n",
       "      <th></th>\n",
       "      <th>ds</th>\n",
       "    </tr>\n",
       "  </thead>\n",
       "  <tbody>\n",
       "    <tr>\n",
       "      <th>33</th>\n",
       "      <td>2022-12-31</td>\n",
       "    </tr>\n",
       "    <tr>\n",
       "      <th>34</th>\n",
       "      <td>2023-12-31</td>\n",
       "    </tr>\n",
       "    <tr>\n",
       "      <th>35</th>\n",
       "      <td>2024-12-31</td>\n",
       "    </tr>\n",
       "    <tr>\n",
       "      <th>36</th>\n",
       "      <td>2025-12-31</td>\n",
       "    </tr>\n",
       "    <tr>\n",
       "      <th>37</th>\n",
       "      <td>2026-12-31</td>\n",
       "    </tr>\n",
       "    <tr>\n",
       "      <th>38</th>\n",
       "      <td>2027-12-31</td>\n",
       "    </tr>\n",
       "    <tr>\n",
       "      <th>39</th>\n",
       "      <td>2028-12-31</td>\n",
       "    </tr>\n",
       "    <tr>\n",
       "      <th>40</th>\n",
       "      <td>2029-12-31</td>\n",
       "    </tr>\n",
       "    <tr>\n",
       "      <th>41</th>\n",
       "      <td>2030-12-31</td>\n",
       "    </tr>\n",
       "    <tr>\n",
       "      <th>42</th>\n",
       "      <td>2031-12-31</td>\n",
       "    </tr>\n",
       "  </tbody>\n",
       "</table>\n",
       "</div>"
      ],
      "text/plain": [
       "           ds\n",
       "33 2022-12-31\n",
       "34 2023-12-31\n",
       "35 2024-12-31\n",
       "36 2025-12-31\n",
       "37 2026-12-31\n",
       "38 2027-12-31\n",
       "39 2028-12-31\n",
       "40 2029-12-31\n",
       "41 2030-12-31\n",
       "42 2031-12-31"
      ]
     },
     "execution_count": 127,
     "metadata": {},
     "output_type": "execute_result"
    }
   ],
   "source": [
    "future_pred.tail(10)"
   ]
  },
  {
   "cell_type": "markdown",
   "id": "704df80c",
   "metadata": {
    "papermill": {
     "duration": 0.016073,
     "end_time": "2023-08-08T11:38:35.924199",
     "exception": false,
     "start_time": "2023-08-08T11:38:35.908126",
     "status": "completed"
    },
    "tags": []
   },
   "source": [
    "## Predicting future forecasting"
   ]
  },
  {
   "cell_type": "code",
   "execution_count": 128,
   "id": "3f2a2672",
   "metadata": {
    "execution": {
     "iopub.execute_input": "2023-08-08T11:38:35.959430Z",
     "iopub.status.busy": "2023-08-08T11:38:35.958590Z",
     "iopub.status.idle": "2023-08-08T11:38:36.340730Z",
     "shell.execute_reply": "2023-08-08T11:38:36.339130Z"
    },
    "papermill": {
     "duration": 0.40262,
     "end_time": "2023-08-08T11:38:36.343750",
     "exception": false,
     "start_time": "2023-08-08T11:38:35.941130",
     "status": "completed"
    },
    "tags": []
   },
   "outputs": [],
   "source": [
    "prediction = model.predict(future_pred)"
   ]
  },
  {
   "cell_type": "code",
   "execution_count": 129,
   "id": "1187f39e",
   "metadata": {
    "execution": {
     "iopub.execute_input": "2023-08-08T11:38:36.378519Z",
     "iopub.status.busy": "2023-08-08T11:38:36.378101Z",
     "iopub.status.idle": "2023-08-08T11:38:36.402448Z",
     "shell.execute_reply": "2023-08-08T11:38:36.400862Z"
    },
    "papermill": {
     "duration": 0.045046,
     "end_time": "2023-08-08T11:38:36.405426",
     "exception": false,
     "start_time": "2023-08-08T11:38:36.360380",
     "status": "completed"
    },
    "tags": []
   },
   "outputs": [
    {
     "data": {
      "text/html": [
       "<div>\n",
       "<style scoped>\n",
       "    .dataframe tbody tr th:only-of-type {\n",
       "        vertical-align: middle;\n",
       "    }\n",
       "\n",
       "    .dataframe tbody tr th {\n",
       "        vertical-align: top;\n",
       "    }\n",
       "\n",
       "    .dataframe thead th {\n",
       "        text-align: right;\n",
       "    }\n",
       "</style>\n",
       "<table border=\"1\" class=\"dataframe\">\n",
       "  <thead>\n",
       "    <tr style=\"text-align: right;\">\n",
       "      <th></th>\n",
       "      <th>ds</th>\n",
       "      <th>trend</th>\n",
       "      <th>yhat_lower</th>\n",
       "      <th>yhat_upper</th>\n",
       "      <th>trend_lower</th>\n",
       "      <th>trend_upper</th>\n",
       "      <th>additive_terms</th>\n",
       "      <th>additive_terms_lower</th>\n",
       "      <th>additive_terms_upper</th>\n",
       "      <th>yearly</th>\n",
       "      <th>yearly_lower</th>\n",
       "      <th>yearly_upper</th>\n",
       "      <th>multiplicative_terms</th>\n",
       "      <th>multiplicative_terms_lower</th>\n",
       "      <th>multiplicative_terms_upper</th>\n",
       "      <th>yhat</th>\n",
       "    </tr>\n",
       "  </thead>\n",
       "  <tbody>\n",
       "    <tr>\n",
       "      <th>0</th>\n",
       "      <td>1990-01-01</td>\n",
       "      <td>-10242.907206</td>\n",
       "      <td>19483.858539</td>\n",
       "      <td>20624.582571</td>\n",
       "      <td>-10242.907206</td>\n",
       "      <td>-10242.907206</td>\n",
       "      <td>30276.291217</td>\n",
       "      <td>30276.291217</td>\n",
       "      <td>30276.291217</td>\n",
       "      <td>30276.291217</td>\n",
       "      <td>30276.291217</td>\n",
       "      <td>30276.291217</td>\n",
       "      <td>0.0</td>\n",
       "      <td>0.0</td>\n",
       "      <td>0.0</td>\n",
       "      <td>20033.384011</td>\n",
       "    </tr>\n",
       "    <tr>\n",
       "      <th>1</th>\n",
       "      <td>1991-01-01</td>\n",
       "      <td>-9971.021595</td>\n",
       "      <td>19720.071580</td>\n",
       "      <td>20822.219071</td>\n",
       "      <td>-9971.021595</td>\n",
       "      <td>-9971.021595</td>\n",
       "      <td>30228.018959</td>\n",
       "      <td>30228.018959</td>\n",
       "      <td>30228.018959</td>\n",
       "      <td>30228.018959</td>\n",
       "      <td>30228.018959</td>\n",
       "      <td>30228.018959</td>\n",
       "      <td>0.0</td>\n",
       "      <td>0.0</td>\n",
       "      <td>0.0</td>\n",
       "      <td>20256.997364</td>\n",
       "    </tr>\n",
       "  </tbody>\n",
       "</table>\n",
       "</div>"
      ],
      "text/plain": [
       "          ds         trend    yhat_lower    yhat_upper   trend_lower  \\\n",
       "0 1990-01-01 -10242.907206  19483.858539  20624.582571 -10242.907206   \n",
       "1 1991-01-01  -9971.021595  19720.071580  20822.219071  -9971.021595   \n",
       "\n",
       "    trend_upper  additive_terms  additive_terms_lower  additive_terms_upper  \\\n",
       "0 -10242.907206    30276.291217          30276.291217          30276.291217   \n",
       "1  -9971.021595    30228.018959          30228.018959          30228.018959   \n",
       "\n",
       "         yearly  yearly_lower  yearly_upper  multiplicative_terms  \\\n",
       "0  30276.291217  30276.291217  30276.291217                   0.0   \n",
       "1  30228.018959  30228.018959  30228.018959                   0.0   \n",
       "\n",
       "   multiplicative_terms_lower  multiplicative_terms_upper          yhat  \n",
       "0                         0.0                         0.0  20033.384011  \n",
       "1                         0.0                         0.0  20256.997364  "
      ]
     },
     "execution_count": 129,
     "metadata": {},
     "output_type": "execute_result"
    }
   ],
   "source": [
    "prediction.head(2)"
   ]
  },
  {
   "cell_type": "code",
   "execution_count": 130,
   "id": "9d26f2bb",
   "metadata": {
    "execution": {
     "iopub.execute_input": "2023-08-08T11:38:36.440712Z",
     "iopub.status.busy": "2023-08-08T11:38:36.439613Z",
     "iopub.status.idle": "2023-08-08T11:38:36.456972Z",
     "shell.execute_reply": "2023-08-08T11:38:36.454671Z"
    },
    "papermill": {
     "duration": 0.038103,
     "end_time": "2023-08-08T11:38:36.459938",
     "exception": false,
     "start_time": "2023-08-08T11:38:36.421835",
     "status": "completed"
    },
    "tags": []
   },
   "outputs": [
    {
     "data": {
      "text/html": [
       "<div>\n",
       "<style scoped>\n",
       "    .dataframe tbody tr th:only-of-type {\n",
       "        vertical-align: middle;\n",
       "    }\n",
       "\n",
       "    .dataframe tbody tr th {\n",
       "        vertical-align: top;\n",
       "    }\n",
       "\n",
       "    .dataframe thead th {\n",
       "        text-align: right;\n",
       "    }\n",
       "</style>\n",
       "<table border=\"1\" class=\"dataframe\">\n",
       "  <thead>\n",
       "    <tr style=\"text-align: right;\">\n",
       "      <th></th>\n",
       "      <th>ds</th>\n",
       "      <th>yhat</th>\n",
       "      <th>yhat_lower</th>\n",
       "      <th>yhat_upper</th>\n",
       "    </tr>\n",
       "  </thead>\n",
       "  <tbody>\n",
       "    <tr>\n",
       "      <th>33</th>\n",
       "      <td>2022-12-31</td>\n",
       "      <td>30844.568213</td>\n",
       "      <td>30267.147292</td>\n",
       "      <td>31389.772642</td>\n",
       "    </tr>\n",
       "    <tr>\n",
       "      <th>34</th>\n",
       "      <td>2023-12-31</td>\n",
       "      <td>29791.837376</td>\n",
       "      <td>29229.503972</td>\n",
       "      <td>30345.027383</td>\n",
       "    </tr>\n",
       "    <tr>\n",
       "      <th>35</th>\n",
       "      <td>2024-12-31</td>\n",
       "      <td>33048.700711</td>\n",
       "      <td>32438.736735</td>\n",
       "      <td>33598.970595</td>\n",
       "    </tr>\n",
       "    <tr>\n",
       "      <th>36</th>\n",
       "      <td>2025-12-31</td>\n",
       "      <td>32475.894154</td>\n",
       "      <td>31882.828072</td>\n",
       "      <td>33055.654625</td>\n",
       "    </tr>\n",
       "    <tr>\n",
       "      <th>37</th>\n",
       "      <td>2026-12-31</td>\n",
       "      <td>31662.253817</td>\n",
       "      <td>31016.111377</td>\n",
       "      <td>32347.101532</td>\n",
       "    </tr>\n",
       "    <tr>\n",
       "      <th>38</th>\n",
       "      <td>2027-12-31</td>\n",
       "      <td>30609.522981</td>\n",
       "      <td>29915.581458</td>\n",
       "      <td>31351.575165</td>\n",
       "    </tr>\n",
       "    <tr>\n",
       "      <th>39</th>\n",
       "      <td>2028-12-31</td>\n",
       "      <td>33866.386316</td>\n",
       "      <td>33065.265714</td>\n",
       "      <td>34625.872181</td>\n",
       "    </tr>\n",
       "    <tr>\n",
       "      <th>40</th>\n",
       "      <td>2029-12-31</td>\n",
       "      <td>33293.579759</td>\n",
       "      <td>32409.900583</td>\n",
       "      <td>34187.757582</td>\n",
       "    </tr>\n",
       "    <tr>\n",
       "      <th>41</th>\n",
       "      <td>2030-12-31</td>\n",
       "      <td>32479.939422</td>\n",
       "      <td>31437.958727</td>\n",
       "      <td>33474.695221</td>\n",
       "    </tr>\n",
       "    <tr>\n",
       "      <th>42</th>\n",
       "      <td>2031-12-31</td>\n",
       "      <td>31427.208586</td>\n",
       "      <td>30294.265462</td>\n",
       "      <td>32548.266439</td>\n",
       "    </tr>\n",
       "  </tbody>\n",
       "</table>\n",
       "</div>"
      ],
      "text/plain": [
       "           ds          yhat    yhat_lower    yhat_upper\n",
       "33 2022-12-31  30844.568213  30267.147292  31389.772642\n",
       "34 2023-12-31  29791.837376  29229.503972  30345.027383\n",
       "35 2024-12-31  33048.700711  32438.736735  33598.970595\n",
       "36 2025-12-31  32475.894154  31882.828072  33055.654625\n",
       "37 2026-12-31  31662.253817  31016.111377  32347.101532\n",
       "38 2027-12-31  30609.522981  29915.581458  31351.575165\n",
       "39 2028-12-31  33866.386316  33065.265714  34625.872181\n",
       "40 2029-12-31  33293.579759  32409.900583  34187.757582\n",
       "41 2030-12-31  32479.939422  31437.958727  33474.695221\n",
       "42 2031-12-31  31427.208586  30294.265462  32548.266439"
      ]
     },
     "execution_count": 130,
     "metadata": {},
     "output_type": "execute_result"
    }
   ],
   "source": [
    "prediction[['ds','yhat','yhat_lower','yhat_upper']].tail(10)"
   ]
  },
  {
   "cell_type": "code",
   "execution_count": 131,
   "id": "29a05dc5",
   "metadata": {
    "execution": {
     "iopub.execute_input": "2023-08-08T11:38:36.497681Z",
     "iopub.status.busy": "2023-08-08T11:38:36.497225Z",
     "iopub.status.idle": "2023-08-08T11:38:37.127233Z",
     "shell.execute_reply": "2023-08-08T11:38:37.126214Z"
    },
    "papermill": {
     "duration": 0.652269,
     "end_time": "2023-08-08T11:38:37.130331",
     "exception": false,
     "start_time": "2023-08-08T11:38:36.478062",
     "status": "completed"
    },
    "tags": []
   },
   "outputs": [
    {
     "data": {
      "image/png": "[encoded data removed]",
      "text/plain": [
       "<Figure size 1000x600 with 1 Axes>"
      ]
     },
     "metadata": {},
     "output_type": "display_data"
    }
   ],
   "source": [
    "# plot the model \n",
    "model.plot(prediction)\n",
    "plt.show()"
   ]
  },
  {
   "cell_type": "code",
   "execution_count": 132,
   "id": "61bd3de9",
   "metadata": {
    "execution": {
     "iopub.execute_input": "2023-08-08T11:38:37.168110Z",
     "iopub.status.busy": "2023-08-08T11:38:37.167685Z",
     "iopub.status.idle": "2023-08-08T11:38:38.020684Z",
     "shell.execute_reply": "2023-08-08T11:38:38.018721Z"
    },
    "papermill": {
     "duration": 0.876252,
     "end_time": "2023-08-08T11:38:38.024516",
     "exception": false,
     "start_time": "2023-08-08T11:38:37.148264",
     "status": "completed"
    },
    "tags": []
   },
   "outputs": [
    {
     "data": {
      "image/png": "[encoded data removed]",
      "text/plain": [
       "<Figure size 900x600 with 2 Axes>"
      ]
     },
     "metadata": {},
     "output_type": "display_data"
    }
   ],
   "source": [
    "model.plot_components(prediction)\n",
    "plt.show()"
   ]
  },
  {
   "cell_type": "markdown",
   "id": "4739ab15",
   "metadata": {
    "papermill": {
     "duration": 0.019363,
     "end_time": "2023-08-08T11:38:38.064249",
     "exception": false,
     "start_time": "2023-08-08T11:38:38.044886",
     "status": "completed"
    },
    "tags": []
   },
   "source": [
    "## To check the performance - cross validation and performance metrics"
   ]
  },
  {
   "cell_type": "code",
   "execution_count": 133,
   "id": "21ab6799",
   "metadata": {
    "execution": {
     "iopub.execute_input": "2023-08-08T11:38:38.106201Z",
     "iopub.status.busy": "2023-08-08T11:38:38.105006Z",
     "iopub.status.idle": "2023-08-08T11:38:38.110778Z",
     "shell.execute_reply": "2023-08-08T11:38:38.109626Z"
    },
    "papermill": {
     "duration": 0.029354,
     "end_time": "2023-08-08T11:38:38.113492",
     "exception": false,
     "start_time": "2023-08-08T11:38:38.084138",
     "status": "completed"
    },
    "tags": []
   },
   "outputs": [],
   "source": [
    "from prophet.diagnostics import cross_validation"
   ]
  },
  {
   "cell_type": "code",
   "execution_count": 134,
   "id": "d8a2ac21",
   "metadata": {
    "execution": {
     "iopub.execute_input": "2023-08-08T11:38:38.155305Z",
     "iopub.status.busy": "2023-08-08T11:38:38.154751Z",
     "iopub.status.idle": "2023-08-08T11:40:00.875883Z",
     "shell.execute_reply": "2023-08-08T11:40:00.874553Z"
    },
    "papermill": {
     "duration": 82.744667,
     "end_time": "2023-08-08T11:40:00.878642",
     "exception": false,
     "start_time": "2023-08-08T11:38:38.133975",
     "status": "completed"
    },
    "tags": []
   },
   "outputs": [
    {
     "data": {
      "application/vnd.jupyter.widget-view+json": {
       "model_id": "1c55042dcb5a431e8531e2ac177399f5",
       "version_major": 2,
       "version_minor": 0
      },
      "text/plain": [
       "  0%|          | 0/29 [00:00<?, ?it/s]"
      ]
     },
     "metadata": {},
     "output_type": "display_data"
    },
    {
     "name": "stderr",
     "output_type": "stream",
     "text": [
      "02:25:15 - cmdstanpy - INFO - Chain [1] start processing\n",
      "02:25:15 - cmdstanpy - INFO - Chain [1] done processing\n",
      "02:25:15 - cmdstanpy - INFO - Chain [1] start processing\n",
      "02:25:20 - cmdstanpy - INFO - Chain [1] done processing\n",
      "02:25:20 - cmdstanpy - INFO - Chain [1] start processing\n",
      "02:25:20 - cmdstanpy - INFO - Chain [1] done processing\n",
      "02:25:20 - cmdstanpy - INFO - Chain [1] start processing\n",
      "02:25:27 - cmdstanpy - INFO - Chain [1] done processing\n",
      "02:25:27 - cmdstanpy - INFO - Chain [1] start processing\n",
      "02:25:32 - cmdstanpy - INFO - Chain [1] done processing\n",
      "02:25:32 - cmdstanpy - INFO - Chain [1] start processing\n",
      "02:25:37 - cmdstanpy - INFO - Chain [1] done processing\n",
      "02:25:37 - cmdstanpy - INFO - Chain [1] start processing\n",
      "02:25:42 - cmdstanpy - INFO - Chain [1] done processing\n",
      "02:25:42 - cmdstanpy - INFO - Chain [1] start processing\n",
      "02:25:42 - cmdstanpy - INFO - Chain [1] done processing\n",
      "02:25:42 - cmdstanpy - INFO - Chain [1] start processing\n",
      "02:25:42 - cmdstanpy - INFO - Chain [1] done processing\n",
      "02:25:42 - cmdstanpy - INFO - Chain [1] start processing\n",
      "02:25:49 - cmdstanpy - INFO - Chain [1] done processing\n",
      "02:25:49 - cmdstanpy - INFO - Chain [1] start processing\n",
      "02:25:49 - cmdstanpy - INFO - Chain [1] done processing\n",
      "02:25:49 - cmdstanpy - INFO - Chain [1] start processing\n",
      "02:25:50 - cmdstanpy - INFO - Chain [1] done processing\n",
      "02:25:50 - cmdstanpy - INFO - Chain [1] start processing\n",
      "02:25:50 - cmdstanpy - INFO - Chain [1] done processing\n",
      "02:25:50 - cmdstanpy - INFO - Chain [1] start processing\n",
      "02:25:50 - cmdstanpy - INFO - Chain [1] done processing\n",
      "02:25:50 - cmdstanpy - INFO - Chain [1] start processing\n",
      "02:25:50 - cmdstanpy - INFO - Chain [1] done processing\n",
      "02:25:50 - cmdstanpy - INFO - Chain [1] start processing\n",
      "02:25:50 - cmdstanpy - INFO - Chain [1] done processing\n",
      "02:25:50 - cmdstanpy - INFO - Chain [1] start processing\n",
      "02:25:50 - cmdstanpy - INFO - Chain [1] done processing\n",
      "02:25:51 - cmdstanpy - INFO - Chain [1] start processing\n",
      "02:25:51 - cmdstanpy - INFO - Chain [1] done processing\n",
      "02:25:51 - cmdstanpy - INFO - Chain [1] start processing\n",
      "02:25:51 - cmdstanpy - INFO - Chain [1] done processing\n",
      "02:25:51 - cmdstanpy - INFO - Chain [1] start processing\n",
      "02:25:51 - cmdstanpy - INFO - Chain [1] done processing\n",
      "02:25:51 - cmdstanpy - INFO - Chain [1] start processing\n",
      "02:25:51 - cmdstanpy - INFO - Chain [1] done processing\n",
      "02:25:51 - cmdstanpy - INFO - Chain [1] start processing\n",
      "02:25:51 - cmdstanpy - INFO - Chain [1] done processing\n",
      "02:25:51 - cmdstanpy - INFO - Chain [1] start processing\n",
      "02:25:52 - cmdstanpy - INFO - Chain [1] done processing\n",
      "02:25:52 - cmdstanpy - INFO - Chain [1] start processing\n",
      "02:25:52 - cmdstanpy - INFO - Chain [1] done processing\n",
      "02:25:52 - cmdstanpy - INFO - Chain [1] start processing\n",
      "02:25:52 - cmdstanpy - INFO - Chain [1] done processing\n",
      "02:25:52 - cmdstanpy - INFO - Chain [1] start processing\n",
      "02:25:52 - cmdstanpy - INFO - Chain [1] done processing\n",
      "02:25:52 - cmdstanpy - INFO - Chain [1] start processing\n",
      "02:25:52 - cmdstanpy - INFO - Chain [1] done processing\n",
      "02:25:53 - cmdstanpy - INFO - Chain [1] start processing\n",
      "02:25:53 - cmdstanpy - INFO - Chain [1] done processing\n",
      "02:25:53 - cmdstanpy - INFO - Chain [1] start processing\n",
      "02:25:53 - cmdstanpy - INFO - Chain [1] done processing\n"
     ]
    }
   ],
   "source": [
    "df_cv = cross_validation(model, horizon='365 days', period='365 days', initial='1095 days')"
   ]
  },
  {
   "cell_type": "code",
   "execution_count": 135,
   "id": "68930869",
   "metadata": {
    "execution": {
     "iopub.execute_input": "2023-08-08T11:40:00.931831Z",
     "iopub.status.busy": "2023-08-08T11:40:00.931382Z",
     "iopub.status.idle": "2023-08-08T11:40:00.947359Z",
     "shell.execute_reply": "2023-08-08T11:40:00.946099Z"
    },
    "papermill": {
     "duration": 0.044834,
     "end_time": "2023-08-08T11:40:00.950000",
     "exception": false,
     "start_time": "2023-08-08T11:40:00.905166",
     "status": "completed"
    },
    "tags": []
   },
   "outputs": [
    {
     "data": {
      "text/html": [
       "<div>\n",
       "<style scoped>\n",
       "    .dataframe tbody tr th:only-of-type {\n",
       "        vertical-align: middle;\n",
       "    }\n",
       "\n",
       "    .dataframe tbody tr th {\n",
       "        vertical-align: top;\n",
       "    }\n",
       "\n",
       "    .dataframe thead th {\n",
       "        text-align: right;\n",
       "    }\n",
       "</style>\n",
       "<table border=\"1\" class=\"dataframe\">\n",
       "  <thead>\n",
       "    <tr style=\"text-align: right;\">\n",
       "      <th></th>\n",
       "      <th>ds</th>\n",
       "      <th>yhat</th>\n",
       "      <th>yhat_lower</th>\n",
       "      <th>yhat_upper</th>\n",
       "      <th>y</th>\n",
       "      <th>cutoff</th>\n",
       "    </tr>\n",
       "  </thead>\n",
       "  <tbody>\n",
       "    <tr>\n",
       "      <th>0</th>\n",
       "      <td>1994-01-01</td>\n",
       "      <td>20934.612684</td>\n",
       "      <td>20932.927646</td>\n",
       "      <td>20936.425195</td>\n",
       "      <td>20632</td>\n",
       "      <td>1993-01-08</td>\n",
       "    </tr>\n",
       "    <tr>\n",
       "      <th>1</th>\n",
       "      <td>1995-01-01</td>\n",
       "      <td>20565.656725</td>\n",
       "      <td>20516.366222</td>\n",
       "      <td>20614.112436</td>\n",
       "      <td>21090</td>\n",
       "      <td>1994-01-08</td>\n",
       "    </tr>\n",
       "    <tr>\n",
       "      <th>2</th>\n",
       "      <td>1996-01-01</td>\n",
       "      <td>21248.343840</td>\n",
       "      <td>21145.287084</td>\n",
       "      <td>21355.529482</td>\n",
       "      <td>21543</td>\n",
       "      <td>1995-01-08</td>\n",
       "    </tr>\n",
       "    <tr>\n",
       "      <th>3</th>\n",
       "      <td>1997-01-01</td>\n",
       "      <td>22103.815994</td>\n",
       "      <td>21996.180326</td>\n",
       "      <td>22216.668900</td>\n",
       "      <td>21910</td>\n",
       "      <td>1996-01-08</td>\n",
       "    </tr>\n",
       "    <tr>\n",
       "      <th>4</th>\n",
       "      <td>1998-01-01</td>\n",
       "      <td>22109.666659</td>\n",
       "      <td>21970.528695</td>\n",
       "      <td>22252.129197</td>\n",
       "      <td>22067</td>\n",
       "      <td>1997-01-07</td>\n",
       "    </tr>\n",
       "  </tbody>\n",
       "</table>\n",
       "</div>"
      ],
      "text/plain": [
       "          ds          yhat    yhat_lower    yhat_upper      y     cutoff\n",
       "0 1994-01-01  20934.612684  20932.927646  20936.425195  20632 1993-01-08\n",
       "1 1995-01-01  20565.656725  20516.366222  20614.112436  21090 1994-01-08\n",
       "2 1996-01-01  21248.343840  21145.287084  21355.529482  21543 1995-01-08\n",
       "3 1997-01-01  22103.815994  21996.180326  22216.668900  21910 1996-01-08\n",
       "4 1998-01-01  22109.666659  21970.528695  22252.129197  22067 1997-01-07"
      ]
     },
     "execution_count": 135,
     "metadata": {},
     "output_type": "execute_result"
    }
   ],
   "source": [
    "df_cv.head()"
   ]
  },
  {
   "cell_type": "code",
   "execution_count": 136,
   "id": "7869e330",
   "metadata": {
    "execution": {
     "iopub.execute_input": "2023-08-08T11:40:01.002339Z",
     "iopub.status.busy": "2023-08-08T11:40:01.001699Z",
     "iopub.status.idle": "2023-08-08T11:40:01.008964Z",
     "shell.execute_reply": "2023-08-08T11:40:01.007164Z"
    },
    "papermill": {
     "duration": 0.039188,
     "end_time": "2023-08-08T11:40:01.013973",
     "exception": false,
     "start_time": "2023-08-08T11:40:00.974785",
     "status": "completed"
    },
    "tags": []
   },
   "outputs": [],
   "source": [
    "from prophet.diagnostics import performance_metrics"
   ]
  },
  {
   "cell_type": "code",
   "execution_count": 137,
   "id": "0d7349b9",
   "metadata": {
    "execution": {
     "iopub.execute_input": "2023-08-08T11:40:01.068594Z",
     "iopub.status.busy": "2023-08-08T11:40:01.067950Z",
     "iopub.status.idle": "2023-08-08T11:40:01.174733Z",
     "shell.execute_reply": "2023-08-08T11:40:01.173598Z"
    },
    "papermill": {
     "duration": 0.136803,
     "end_time": "2023-08-08T11:40:01.177609",
     "exception": false,
     "start_time": "2023-08-08T11:40:01.040806",
     "status": "completed"
    },
    "tags": []
   },
   "outputs": [],
   "source": [
    "df_performance = performance_metrics(df_cv)"
   ]
  },
  {
   "cell_type": "code",
   "execution_count": 138,
   "id": "57711735",
   "metadata": {
    "execution": {
     "iopub.execute_input": "2023-08-08T11:40:01.229158Z",
     "iopub.status.busy": "2023-08-08T11:40:01.228736Z",
     "iopub.status.idle": "2023-08-08T11:40:01.249962Z",
     "shell.execute_reply": "2023-08-08T11:40:01.248567Z"
    },
    "papermill": {
     "duration": 0.050038,
     "end_time": "2023-08-08T11:40:01.252785",
     "exception": false,
     "start_time": "2023-08-08T11:40:01.202747",
     "status": "completed"
    },
    "tags": []
   },
   "outputs": [
    {
     "data": {
      "text/html": [
       "<div>\n",
       "<style scoped>\n",
       "    .dataframe tbody tr th:only-of-type {\n",
       "        vertical-align: middle;\n",
       "    }\n",
       "\n",
       "    .dataframe tbody tr th {\n",
       "        vertical-align: top;\n",
       "    }\n",
       "\n",
       "    .dataframe thead th {\n",
       "        text-align: right;\n",
       "    }\n",
       "</style>\n",
       "<table border=\"1\" class=\"dataframe\">\n",
       "  <thead>\n",
       "    <tr style=\"text-align: right;\">\n",
       "      <th></th>\n",
       "      <th>horizon</th>\n",
       "      <th>mse</th>\n",
       "      <th>rmse</th>\n",
       "      <th>mae</th>\n",
       "      <th>mape</th>\n",
       "      <th>mdape</th>\n",
       "      <th>smape</th>\n",
       "      <th>coverage</th>\n",
       "    </tr>\n",
       "  </thead>\n",
       "  <tbody>\n",
       "    <tr>\n",
       "      <th>0</th>\n",
       "      <td>358 days</td>\n",
       "      <td>1.511109e+05</td>\n",
       "      <td>388.729795</td>\n",
       "      <td>373.870707</td>\n",
       "      <td>0.017736</td>\n",
       "      <td>0.014667</td>\n",
       "      <td>0.017836</td>\n",
       "      <td>0.00</td>\n",
       "    </tr>\n",
       "    <tr>\n",
       "      <th>1</th>\n",
       "      <td>359 days</td>\n",
       "      <td>7.966824e+04</td>\n",
       "      <td>282.255636</td>\n",
       "      <td>205.295875</td>\n",
       "      <td>0.009112</td>\n",
       "      <td>0.005765</td>\n",
       "      <td>0.009168</td>\n",
       "      <td>0.50</td>\n",
       "    </tr>\n",
       "    <tr>\n",
       "      <th>2</th>\n",
       "      <td>360 days</td>\n",
       "      <td>2.084277e+05</td>\n",
       "      <td>456.538852</td>\n",
       "      <td>389.004945</td>\n",
       "      <td>0.015678</td>\n",
       "      <td>0.016817</td>\n",
       "      <td>0.015846</td>\n",
       "      <td>0.25</td>\n",
       "    </tr>\n",
       "    <tr>\n",
       "      <th>3</th>\n",
       "      <td>361 days</td>\n",
       "      <td>2.705859e+05</td>\n",
       "      <td>520.178733</td>\n",
       "      <td>391.312944</td>\n",
       "      <td>0.013920</td>\n",
       "      <td>0.008741</td>\n",
       "      <td>0.013795</td>\n",
       "      <td>0.25</td>\n",
       "    </tr>\n",
       "    <tr>\n",
       "      <th>4</th>\n",
       "      <td>362 days</td>\n",
       "      <td>7.182734e+05</td>\n",
       "      <td>847.510113</td>\n",
       "      <td>503.369483</td>\n",
       "      <td>0.017558</td>\n",
       "      <td>0.004528</td>\n",
       "      <td>0.017125</td>\n",
       "      <td>0.75</td>\n",
       "    </tr>\n",
       "    <tr>\n",
       "      <th>5</th>\n",
       "      <td>363 days</td>\n",
       "      <td>1.271997e+06</td>\n",
       "      <td>1127.828435</td>\n",
       "      <td>956.438268</td>\n",
       "      <td>0.030158</td>\n",
       "      <td>0.033257</td>\n",
       "      <td>0.029539</td>\n",
       "      <td>0.25</td>\n",
       "    </tr>\n",
       "    <tr>\n",
       "      <th>6</th>\n",
       "      <td>364 days</td>\n",
       "      <td>1.014649e+06</td>\n",
       "      <td>1007.297772</td>\n",
       "      <td>704.584707</td>\n",
       "      <td>0.022370</td>\n",
       "      <td>0.014287</td>\n",
       "      <td>0.021864</td>\n",
       "      <td>0.50</td>\n",
       "    </tr>\n",
       "    <tr>\n",
       "      <th>7</th>\n",
       "      <td>365 days</td>\n",
       "      <td>5.075368e+05</td>\n",
       "      <td>712.416150</td>\n",
       "      <td>701.548291</td>\n",
       "      <td>0.020966</td>\n",
       "      <td>0.020966</td>\n",
       "      <td>0.021195</td>\n",
       "      <td>0.00</td>\n",
       "    </tr>\n",
       "  </tbody>\n",
       "</table>\n",
       "</div>"
      ],
      "text/plain": [
       "   horizon           mse         rmse         mae      mape     mdape  \\\n",
       "0 358 days  1.511109e+05   388.729795  373.870707  0.017736  0.014667   \n",
       "1 359 days  7.966824e+04   282.255636  205.295875  0.009112  0.005765   \n",
       "2 360 days  2.084277e+05   456.538852  389.004945  0.015678  0.016817   \n",
       "3 361 days  2.705859e+05   520.178733  391.312944  0.013920  0.008741   \n",
       "4 362 days  7.182734e+05   847.510113  503.369483  0.017558  0.004528   \n",
       "5 363 days  1.271997e+06  1127.828435  956.438268  0.030158  0.033257   \n",
       "6 364 days  1.014649e+06  1007.297772  704.584707  0.022370  0.014287   \n",
       "7 365 days  5.075368e+05   712.416150  701.548291  0.020966  0.020966   \n",
       "\n",
       "      smape  coverage  \n",
       "0  0.017836      0.00  \n",
       "1  0.009168      0.50  \n",
       "2  0.015846      0.25  \n",
       "3  0.013795      0.25  \n",
       "4  0.017125      0.75  \n",
       "5  0.029539      0.25  \n",
       "6  0.021864      0.50  \n",
       "7  0.021195      0.00  "
      ]
     },
     "execution_count": 138,
     "metadata": {},
     "output_type": "execute_result"
    }
   ],
   "source": [
    "df_performance"
   ]
  },
  {
   "cell_type": "code",
   "execution_count": 139,
   "id": "7da52600",
   "metadata": {
    "execution": {
     "iopub.execute_input": "2023-08-08T11:40:01.307313Z",
     "iopub.status.busy": "2023-08-08T11:40:01.306863Z",
     "iopub.status.idle": "2023-08-08T11:40:01.675710Z",
     "shell.execute_reply": "2023-08-08T11:40:01.674435Z"
    },
    "papermill": {
     "duration": 0.399676,
     "end_time": "2023-08-08T11:40:01.678623",
     "exception": false,
     "start_time": "2023-08-08T11:40:01.278947",
     "status": "completed"
    },
    "tags": []
   },
   "outputs": [
    {
     "data": {
      "image/png": "[encoded data removed]",
      "text/plain": [
       "<Figure size 1000x600 with 1 Axes>"
      ]
     },
     "metadata": {},
     "output_type": "display_data"
    }
   ],
   "source": [
    "# Visualise\n",
    "from prophet.plot import plot_cross_validation_metric\n",
    "df_performance = plot_cross_validation_metric(df_cv, metric='mape')"
   ]
  },
  {
   "cell_type": "code",
   "execution_count": 140,
   "id": "00cbcb49",
   "metadata": {
    "papermill": {
     "duration": 0.025646,
     "end_time": "2023-08-08T11:40:01.731330",
     "exception": false,
     "start_time": "2023-08-08T11:40:01.705684",
     "status": "completed"
    },
    "tags": []
   },
   "outputs": [
    {
     "name": "stdout",
     "output_type": "stream",
     "text": [
      "Total world CO2 emissions in the next 10 years (predicted using yhat_upper): 0.03 billion tons\n",
      "Number of trees required to offset CO2 emissions: 1446\n"
     ]
    }
   ],
   "source": [
    "# Constants\n",
    "CO2_absorption_per_tree_per_year = 22.6  # Example value in kilograms per year\n",
    "\n",
    "# Convert yhat_upper values from kilograms to million tons (assuming 1 ton = 1000 kilograms)\n",
    "yhat_upper_values_million_tons = yhat_upper_values / 1e6\n",
    "\n",
    "# Calculate the mean value of yhat_upper in million tons\n",
    "mean_value_million_tons = yhat_upper_values_million_tons.mean()\n",
    "\n",
    "# Format the mean value with two decimal places\n",
    "formatted_value = \"{:.2f}\".format(mean_value_million_tons)\n",
    "\n",
    "if mean_value_million_tons >= 100:\n",
    "    # Convert mean value to billion and format it with a decimal after two digits\n",
    "    total_world_CO2_emissions_billion = mean_value_million_tons / 1e3\n",
    "    formatted_value = \"{:.2f}\".format(total_world_CO2_emissions_billion)\n",
    "    print(f\"Total world CO2 emissions in the next 10 years (predicted using yhat_upper): {formatted_value} billion tons\")\n",
    "else:\n",
    "    print(f\"Total world CO2 emissions in the next 10 years (predicted using yhat_upper): {formatted_value} billion tons\")\n",
    "\n",
    "# Calculate the number of trees required to offset CO2 emissions\n",
    "trees_required = mean_value_million_tons * 1e6 / CO2_absorption_per_tree_per_year\n",
    "\n",
    "# Output the number of trees required\n",
    "print(f\"Number of trees required to offset CO2 emissions: {trees_required:.0f}\")\n"
   ]
  }
 ],
 "metadata": {
  "kernelspec": {
   "display_name": "Python 3",
   "language": "python",
   "name": "python3"
  },
  "language_info": {
   "codemirror_mode": {
    "name": "ipython",
    "version": 3
   },
   "file_extension": ".py",
   "mimetype": "text/x-python",
   "name": "python",
   "nbconvert_exporter": "python",
   "pygments_lexer": "ipython3",
   "version": "3.11.9"
  },
  "papermill": {
   "default_parameters": {},
   "duration": 107.17101,
   "end_time": "2023-08-08T11:40:03.035625",
   "environment_variables": {},
   "exception": null,
   "input_path": "__notebook__.ipynb",
   "output_path": "__notebook__.ipynb",
   "parameters": {},
   "start_time": "2023-08-08T11:38:15.864615",
   "version": "2.4.0"
  },
  "widgets": {
   "application/vnd.jupyter.widget-state+json": {
    "state": {
     "055b282a36104e65b9db6ac04f933d9b": {
      "model_module": "@jupyter-widgets/controls",
      "model_module_version": "1.5.0",
      "model_name": "DescriptionStyleModel",
      "state": {
       "_model_module": "@jupyter-widgets/controls",
       "_model_module_version": "1.5.0",
       "_model_name": "DescriptionStyleModel",
       "_view_count": null,
       "_view_module": "@jupyter-widgets/base",
       "_view_module_version": "1.2.0",
       "_view_name": "StyleView",
       "description_width": ""
      }
     },
     "0b094d48e2ea4ca49e60e75e3ff5e286": {
      "model_module": "@jupyter-widgets/base",
      "model_module_version": "1.2.0",
      "model_name": "LayoutModel",
      "state": {
       "_model_module": "@jupyter-widgets/base",
       "_model_module_version": "1.2.0",
       "_model_name": "LayoutModel",
       "_view_count": null,
       "_view_module": "@jupyter-widgets/base",
       "_view_module_version": "1.2.0",
       "_view_name": "LayoutView",
       "align_content": null,
       "align_items": null,
       "align_self": null,
       "border": null,
       "bottom": null,
       "display": null,
       "flex": null,
       "flex_flow": null,
       "grid_area": null,
       "grid_auto_columns": null,
       "grid_auto_flow": null,
       "grid_auto_rows": null,
       "grid_column": null,
       "grid_gap": null,
       "grid_row": null,
       "grid_template_areas": null,
       "grid_template_columns": null,
       "grid_template_rows": null,
       "height": null,
       "justify_content": null,
       "justify_items": null,
       "left": null,
       "margin": null,
       "max_height": null,
       "max_width": null,
       "min_height": null,
       "min_width": null,
       "object_fit": null,
       "object_position": null,
       "order": null,
       "overflow": null,
       "overflow_x": null,
       "overflow_y": null,
       "padding": null,
       "right": null,
       "top": null,
       "visibility": null,
       "width": null
      }
     },
     "1a974eed353949f4aafa2c941ae47aeb": {
      "model_module": "@jupyter-widgets/controls",
      "model_module_version": "1.5.0",
      "model_name": "HBoxModel",
      "state": {
       "_dom_classes": [],
       "_model_module": "@jupyter-widgets/controls",
       "_model_module_version": "1.5.0",
       "_model_name": "HBoxModel",
       "_view_count": null,
       "_view_module": "@jupyter-widgets/controls",
       "_view_module_version": "1.5.0",
       "_view_name": "HBoxView",
       "box_style": "",
       "children": [
        "IPY_MODEL_7751c4c2f10a4c0e94ed1fdc20383e08",
        "IPY_MODEL_6216cb1955e34ba28ff4d906b4c75de4",
        "IPY_MODEL_48d877af7e3d475eb1335dbceef56eca"
       ],
       "layout": "IPY_MODEL_dc688f709be2465bac318a7f979df8af"
      }
     },
     "48d877af7e3d475eb1335dbceef56eca": {
      "model_module": "@jupyter-widgets/controls",
      "model_module_version": "1.5.0",
      "model_name": "HTMLModel",
      "state": {
       "_dom_classes": [],
       "_model_module": "@jupyter-widgets/controls",
       "_model_module_version": "1.5.0",
       "_model_name": "HTMLModel",
       "_view_count": null,
       "_view_module": "@jupyter-widgets/controls",
       "_view_module_version": "1.5.0",
       "_view_name": "HTMLView",
       "description": "",
       "description_tooltip": null,
       "layout": "IPY_MODEL_7147729ee8d14e59acef094909ccec43",
       "placeholder": "​",
       "style": "IPY_MODEL_055b282a36104e65b9db6ac04f933d9b",
       "value": " 29/29 [01:22&lt;00:00,  1.16it/s]"
      }
     },
     "6216cb1955e34ba28ff4d906b4c75de4": {
      "model_module": "@jupyter-widgets/controls",
      "model_module_version": "1.5.0",
      "model_name": "FloatProgressModel",
      "state": {
       "_dom_classes": [],
       "_model_module": "@jupyter-widgets/controls",
       "_model_module_version": "1.5.0",
       "_model_name": "FloatProgressModel",
       "_view_count": null,
       "_view_module": "@jupyter-widgets/controls",
       "_view_module_version": "1.5.0",
       "_view_name": "ProgressView",
       "bar_style": "success",
       "description": "",
       "description_tooltip": null,
       "layout": "IPY_MODEL_86a96778745c4ea3a67acc8ee1f09f8a",
       "max": 29,
       "min": 0,
       "orientation": "horizontal",
       "style": "IPY_MODEL_6d2424a48df64efab58fb69e5d82384a",
       "value": 29
      }
     },
     "6d2424a48df64efab58fb69e5d82384a": {
      "model_module": "@jupyter-widgets/controls",
      "model_module_version": "1.5.0",
      "model_name": "ProgressStyleModel",
      "state": {
       "_model_module": "@jupyter-widgets/controls",
       "_model_module_version": "1.5.0",
       "_model_name": "ProgressStyleModel",
       "_view_count": null,
       "_view_module": "@jupyter-widgets/base",
       "_view_module_version": "1.2.0",
       "_view_name": "StyleView",
       "bar_color": null,
       "description_width": ""
      }
     },
     "7147729ee8d14e59acef094909ccec43": {
      "model_module": "@jupyter-widgets/base",
      "model_module_version": "1.2.0",
      "model_name": "LayoutModel",
      "state": {
       "_model_module": "@jupyter-widgets/base",
       "_model_module_version": "1.2.0",
       "_model_name": "LayoutModel",
       "_view_count": null,
       "_view_module": "@jupyter-widgets/base",
       "_view_module_version": "1.2.0",
       "_view_name": "LayoutView",
       "align_content": null,
       "align_items": null,
       "align_self": null,
       "border": null,
       "bottom": null,
       "display": null,
       "flex": null,
       "flex_flow": null,
       "grid_area": null,
       "grid_auto_columns": null,
       "grid_auto_flow": null,
       "grid_auto_rows": null,
       "grid_column": null,
       "grid_gap": null,
       "grid_row": null,
       "grid_template_areas": null,
       "grid_template_columns": null,
       "grid_template_rows": null,
       "height": null,
       "justify_content": null,
       "justify_items": null,
       "left": null,
       "margin": null,
       "max_height": null,
       "max_width": null,
       "min_height": null,
       "min_width": null,
       "object_fit": null,
       "object_position": null,
       "order": null,
       "overflow": null,
       "overflow_x": null,
       "overflow_y": null,
       "padding": null,
       "right": null,
       "top": null,
       "visibility": null,
       "width": null
      }
     },
     "7751c4c2f10a4c0e94ed1fdc20383e08": {
      "model_module": "@jupyter-widgets/controls",
      "model_module_version": "1.5.0",
      "model_name": "HTMLModel",
      "state": {
       "_dom_classes": [],
       "_model_module": "@jupyter-widgets/controls",
       "_model_module_version": "1.5.0",
       "_model_name": "HTMLModel",
       "_view_count": null,
       "_view_module": "@jupyter-widgets/controls",
       "_view_module_version": "1.5.0",
       "_view_name": "HTMLView",
       "description": "",
       "description_tooltip": null,
       "layout": "IPY_MODEL_0b094d48e2ea4ca49e60e75e3ff5e286",
       "placeholder": "​",
       "style": "IPY_MODEL_c0572344ac454d93abea0a61e0eb60ef",
       "value": "100%"
      }
     },
     "86a96778745c4ea3a67acc8ee1f09f8a": {
      "model_module": "@jupyter-widgets/base",
      "model_module_version": "1.2.0",
      "model_name": "LayoutModel",
      "state": {
       "_model_module": "@jupyter-widgets/base",
       "_model_module_version": "1.2.0",
       "_model_name": "LayoutModel",
       "_view_count": null,
       "_view_module": "@jupyter-widgets/base",
       "_view_module_version": "1.2.0",
       "_view_name": "LayoutView",
       "align_content": null,
       "align_items": null,
       "align_self": null,
       "border": null,
       "bottom": null,
       "display": null,
       "flex": null,
       "flex_flow": null,
       "grid_area": null,
       "grid_auto_columns": null,
       "grid_auto_flow": null,
       "grid_auto_rows": null,
       "grid_column": null,
       "grid_gap": null,
       "grid_row": null,
       "grid_template_areas": null,
       "grid_template_columns": null,
       "grid_template_rows": null,
       "height": null,
       "justify_content": null,
       "justify_items": null,
       "left": null,
       "margin": null,
       "max_height": null,
       "max_width": null,
       "min_height": null,
       "min_width": null,
       "object_fit": null,
       "object_position": null,
       "order": null,
       "overflow": null,
       "overflow_x": null,
       "overflow_y": null,
       "padding": null,
       "right": null,
       "top": null,
       "visibility": null,
       "width": null
      }
     },
     "c0572344ac454d93abea0a61e0eb60ef": {
      "model_module": "@jupyter-widgets/controls",
      "model_module_version": "1.5.0",
      "model_name": "DescriptionStyleModel",
      "state": {
       "_model_module": "@jupyter-widgets/controls",
       "_model_module_version": "1.5.0",
       "_model_name": "DescriptionStyleModel",
       "_view_count": null,
       "_view_module": "@jupyter-widgets/base",
       "_view_module_version": "1.2.0",
       "_view_name": "StyleView",
       "description_width": ""
      }
     },
     "dc688f709be2465bac318a7f979df8af": {
      "model_module": "@jupyter-widgets/base",
      "model_module_version": "1.2.0",
      "model_name": "LayoutModel",
      "state": {
       "_model_module": "@jupyter-widgets/base",
       "_model_module_version": "1.2.0",
       "_model_name": "LayoutModel",
       "_view_count": null,
       "_view_module": "@jupyter-widgets/base",
       "_view_module_version": "1.2.0",
       "_view_name": "LayoutView",
       "align_content": null,
       "align_items": null,
       "align_self": null,
       "border": null,
       "bottom": null,
       "display": null,
       "flex": null,
       "flex_flow": null,
       "grid_area": null,
       "grid_auto_columns": null,
       "grid_auto_flow": null,
       "grid_auto_rows": null,
       "grid_column": null,
       "grid_gap": null,
       "grid_row": null,
       "grid_template_areas": null,
       "grid_template_columns": null,
       "grid_template_rows": null,
       "height": null,
       "justify_content": null,
       "justify_items": null,
       "left": null,
       "margin": null,
       "max_height": null,
       "max_width": null,
       "min_height": null,
       "min_width": null,
       "object_fit": null,
       "object_position": null,
       "order": null,
       "overflow": null,
       "overflow_x": null,
       "overflow_y": null,
       "padding": null,
       "right": null,
       "top": null,
       "visibility": null,
       "width": null
      }
     }
    },
    "version_major": 2,
    "version_minor": 0
   }
  }
 },
 "nbformat": 4,
 "nbformat_minor": 5
}
